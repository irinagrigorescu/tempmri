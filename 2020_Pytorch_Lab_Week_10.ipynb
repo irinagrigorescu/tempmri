{
  "nbformat": 4,
  "nbformat_minor": 0,
  "metadata": {
    "colab": {
      "name": "2020 Pytorch Lab Week 10.ipynb",
      "provenance": [],
      "collapsed_sections": [],
      "toc_visible": true
    },
    "kernelspec": {
      "name": "python3",
      "display_name": "Python 3"
    },
    "accelerator": "GPU"
  },
  "cells": [
    {
      "cell_type": "markdown",
      "metadata": {
        "id": "z5trhpOAqQDJ"
      },
      "source": [
        "# Lab 10\n",
        "\n",
        "### Main objectives of this tutorial:\n",
        "1. Learn `Pytorch` syntax and functions in order to be able to create your own networks.\n",
        "2. Learn about data handling in `PyTorch`\n",
        "3. Create and train a fully connected network on the MedNIST dataset.\n",
        "3. Create and train a convolutional neural network on T2w images (2D slices) of the brain.\n",
        "\n",
        "### Notes:\n",
        "\n",
        "1. We will work with the MedNIST dataset. This dataset is kindly made available by Dr. Bradley J. Erickson M.D., Ph.D. (Department of Radiology, Mayo Clinic) under the Creative Commons CC BY-SA 4.0 license.\n",
        "If you use the MedNIST dataset, please acknowledge the source.\n",
        "\n",
        "2. We will work with data coming from the developing Human Connectome Project (dHCP - http://www.developingconnectome.org/project/)\n"
      ]
    },
    {
      "cell_type": "markdown",
      "metadata": {
        "id": "A5kn2qcyqX-k"
      },
      "source": [
        "## Setup"
      ]
    },
    {
      "cell_type": "code",
      "metadata": {
        "id": "-Fujzkk0qZfs"
      },
      "source": [
        "\n",
        "import matplotlib.pyplot as plt\n",
        "from PIL import Image\n",
        "\n",
        "import tarfile\n",
        "import zipfile\n",
        "from pathlib import Path\n",
        "\n",
        "import pandas as pd\n",
        "import io\n",
        "import os\n",
        "import time \n",
        "\n",
        "# import urllib\n",
        "\n",
        "import torchvision\n",
        "from torchvision import datasets, transforms\n",
        "\n",
        "import numpy as np\n",
        "import torch\n",
        "import torch.nn as nn\n",
        "import torch.nn.functional as F \n",
        "from torch import nn\n",
        "from torch.nn import init\n",
        "from torch.autograd import Variable\n",
        "from torch.utils.data import DataLoader\n"
      ],
      "execution_count": null,
      "outputs": []
    },
    {
      "cell_type": "markdown",
      "metadata": {
        "id": "YKmjl9N-q6aM"
      },
      "source": [
        "## Part 0 - Pytorch fundamentals\n",
        "\n",
        "*Side note: A lot more details will be presented to you in the Advanced ML class (check PyTorch Foundations lab by Abdulah Fawaz and Cher Bass), but we will cover a few basics together as well.*\n",
        "\n",
        "[Pytorch Documentation](https://pytorch.org/docs/stable/torch.html)"
      ]
    },
    {
      "cell_type": "markdown",
      "metadata": {
        "id": "oM0fT-Ysrpus"
      },
      "source": [
        "### Generating random arrays\n",
        "\n",
        "**Takeaway points:**\n",
        "* Similar syntax as numpy\n",
        "\n",
        "**Tasks:**\n",
        "1. Create a random numpy array of size 1 x 2 x 3 x 3 and a random torch array of the same size\n",
        "  * Hint: `np.random.rand` and `torch.rand`"
      ]
    },
    {
      "cell_type": "code",
      "metadata": {
        "id": "FiLEsB5orbU3"
      },
      "source": [
        "# TODO\n",
        "np_arr = # numpy\n",
        "# TODO\n",
        "tr_arr = # torch\n",
        "\n",
        "print('numpy\\n------')\n",
        "print('np_arr:\\n', np_arr)\n",
        "\n",
        "print('\\n\\ntorch\\n------')\n",
        "print('tr_arr:\\n', tr_arr)"
      ],
      "execution_count": null,
      "outputs": []
    },
    {
      "cell_type": "markdown",
      "metadata": {
        "id": "FMcqRlKbrst0"
      },
      "source": [
        "### Shape\n",
        "\n",
        "**Takeaway points**: \n",
        "* Similar indexing as numpy\n",
        "* Slightly different reshaping syntax\n",
        "\n",
        "**Tasks:**\n",
        "1. Print the shape of your numpy array `np_arr` and the torch tensor `tr_arr`\n",
        "2. Print the (0,0,0,0) indexed element of both arrays\n",
        "3. Reshape both arrays to 2 x 9\n",
        "  * *Hint:* `np.reshape` and `name_of_tensor_variable.reshape`"
      ]
    },
    {
      "cell_type": "code",
      "metadata": {
        "id": "ODC19SJIrwKU"
      },
      "source": [
        "# Shape and indexing\n",
        "print('numpy\\n------')\n",
        "# TODO\n",
        "               # check shape\n",
        "# TODO\n",
        "               # indexing\n",
        "\n",
        "print('\\n\\ntorch\\n------')\n",
        "# TODO\n",
        "               # check shape\n",
        "# TODO\n",
        "               # indexing"
      ],
      "execution_count": null,
      "outputs": []
    },
    {
      "cell_type": "code",
      "metadata": {
        "id": "ahOqTnwFtjhI"
      },
      "source": [
        "# Reshaping\n",
        "# TODO\n",
        "np_arr = #\n",
        "# TODO\n",
        "tr_arr = #\n",
        "\n",
        "print('numpy\\n------')\n",
        "print('np_arr.shape:', np_arr.shape)                   # check shape\n",
        "print('np_arr[0, 0] =', np_arr[0, 0])            \n",
        "\n",
        "print('\\n\\ntorch\\n------')\n",
        "print('tr_arr.shape:', tr_arr.shape)                   # check shape\n",
        "print('tr_arr[0, 0] =', tr_arr[0, 0])            "
      ],
      "execution_count": null,
      "outputs": []
    },
    {
      "cell_type": "markdown",
      "metadata": {
        "id": "dJK41Atrrwdv"
      },
      "source": [
        "### Convert from one to another\n",
        "\n",
        "**Takeaway points**: \n",
        "* Converting between numpy and torch tensors is straightforward *from_numpy()* | *numpy()*\n",
        "\n",
        "**Tasks:**\n",
        "1. Convert from numpy to torch and back"
      ]
    },
    {
      "cell_type": "code",
      "metadata": {
        "id": "kt85FatXryW3"
      },
      "source": [
        "# Create a numpy array\n",
        "x_np = np.random.rand(2, 3)\n",
        "\n",
        "# Create torch tensor from numpy\n",
        "# TODO\n",
        "x_tr = # \n",
        "\n",
        "# Create numpy array back from torch tensor\n",
        "# TODO\n",
        "x_tr_np = # \n",
        "\n",
        "print('numpy\\n------')\n",
        "print('x_np\\n', x_np)\n",
        "print('x_np.shape:', x_np.shape)\n",
        "\n",
        "print('\\n\\ntorch\\n------')\n",
        "print('x_tr\\n', x_tr)\n",
        "print('x_tr.shape:', x_tr.shape)\n",
        "\n",
        "print('\\n\\nback to numpy\\n------')\n",
        "print('x_tr_np\\n', x_tr_np)\n",
        "print('x_tr_np.shape:', x_tr_np.shape)\n"
      ],
      "execution_count": null,
      "outputs": []
    },
    {
      "cell_type": "markdown",
      "metadata": {
        "id": "xF02mNZSry6n"
      },
      "source": [
        "### View\n",
        "\n",
        "\n",
        "**Takeaway points**: \n",
        "* This function is quite heavily used in pytorch\n",
        "\n",
        "**Tasks**:\n",
        "1. Look at the following code and think about what -1 stands for in `b = a.view(-1, 6)` ?"
      ]
    },
    {
      "cell_type": "code",
      "metadata": {
        "id": "gJQcrhHFr0EG"
      },
      "source": [
        "# Create a random torch\n",
        "a = torch.randn(1, 2, 2, 3)\n",
        "\n",
        "# Reshape\n",
        "b = a.view(-1, 6)  \n",
        "\n",
        "print('a\\n ', a)\n",
        "print('\\nb\\n ', b)\n",
        "\n",
        "print('\\n\\na.shape: ', a.shape)\n",
        "print('b.shape: ', b.shape)"
      ],
      "execution_count": null,
      "outputs": []
    },
    {
      "cell_type": "markdown",
      "metadata": {
        "id": "wSknzV22mNsB"
      },
      "source": [
        "### Concatenating tensors\n",
        "\n",
        "\n",
        "**Tasks**:\n",
        "1. Create two random torch arrays of size 1 x 2 x 4 x 4 and size 1 x 5 x 4 x 4 and concatenate them on dim=1 \n",
        "  * *Hint:* indexing starts from 0\n",
        "  * https://pytorch.org/docs/stable/generated/torch.cat.html"
      ]
    },
    {
      "cell_type": "code",
      "metadata": {
        "id": "smdEVHhNmgDl"
      },
      "source": [
        "# Create two random torch arrays\n",
        "a =   # TODO\n",
        "b =   # TODO\n",
        "\n",
        "c =   # TODO\n",
        "\n",
        "print('a.shape: ', a.shape)\n",
        "print('b.shape: ', b.shape)\n",
        "print('c.shape: ', c.shape)"
      ],
      "execution_count": null,
      "outputs": []
    },
    {
      "cell_type": "markdown",
      "metadata": {
        "id": "1mj47jPs9Glo"
      },
      "source": [
        "## Part 1 - Defining and training a network in PyTorch\n",
        "\n"
      ]
    },
    {
      "cell_type": "markdown",
      "metadata": {
        "id": "onAK-aIoC0j-"
      },
      "source": [
        "### Let's create our first PyTorch network\n",
        "\n",
        "Neural networks can be constructed using the `torch.nn` package.\n",
        "\n",
        "We will first create a simple feed-forward two layers network.\n",
        "\n",
        "Creating a network consists of the following steps:\n",
        "1. Create your class (e.g. `MyFirstNetwork`) by inheriting from `nn.Module`\n",
        "2. Code up the constructor `__init__` by:\n",
        "  * Calling `super(MyFirstNetwork, self).__init__()` to call the parent class\n",
        "  * Coding up all the parameters and layers that make up your network\n",
        "  * In our first simple case we will have:\n",
        "    1. One hidden layer going from input of size 1 to output of size 10\n",
        "    2. One output layer going from size 10 to output of size 1.\n",
        "    3. One ReLU activation function after the first hidden layer\n",
        "3. Code up the `forward(self, x)` method which takes the input x, applies the layers on it and outputs the result~\n",
        "\n",
        "\n",
        "\n",
        "\n",
        "**Acknowledgements**: \n",
        "* Inspired from the Advanced Machine Learning class tutorial by Cher Bass and Abdual Fawaz.\n",
        "* Also check https://pytorch.org/tutorials/beginner/blitz/neural_networks_tutorial.html and https://medium.com/@benjamin.phillips22/simple-regression-with-neural-networks-in-pytorch-313f06910379\n"
      ]
    },
    {
      "cell_type": "code",
      "metadata": {
        "id": "ScPo8O2zC01-"
      },
      "source": [
        "# Create a network\n",
        "class MyFirstNetwork(nn.Module):\n",
        "   def __init__(self, n_features, n_hidden, n_output):\n",
        "       super(MyFirstNetwork, self).__init__()\n",
        "\n",
        "       self.lin_layer1 = torch.nn.Linear(n_features, n_hidden)\n",
        "       self.lin_layer2 = torch.nn.Linear(n_hidden, n_output)\n",
        "\n",
        "   def forward(self, x):\n",
        "       x = F.relu(self.lin_layer1(x))\n",
        "       x = self.lin_layer2(x)\n",
        "       return x\n",
        "\n",
        "net = MyFirstNetwork(n_features=1, n_hidden=10, n_output=1)\n",
        "print(net)"
      ],
      "execution_count": null,
      "outputs": []
    },
    {
      "cell_type": "markdown",
      "metadata": {
        "id": "aZXCTHTjHt1b"
      },
      "source": [
        "### Training the network\n",
        "\n",
        "\n"
      ]
    },
    {
      "cell_type": "markdown",
      "metadata": {
        "id": "f5pMEcmMJgAS"
      },
      "source": [
        "#### Optimizer and loss function\n",
        "\n",
        "In order to train the network we need:\n",
        "\n",
        "1. An optimizer:\n",
        "  * For example: `optimizer = torch.optim.SGD(net.parameters(), lr=0.2)`\n",
        "    * Other optimizers here:  https://pytorch.org/docs/stable/optim.html\n",
        "2. A loss function:\n",
        "  * For example: `loss_func = torch.nn.MSELoss()`\n",
        "    * Other losses here: https://pytorch.org/docs/stable/nn.html#loss-functions\n",
        "\n",
        "Let's define them below:"
      ]
    },
    {
      "cell_type": "code",
      "metadata": {
        "id": "rEGGcBURJBFm"
      },
      "source": [
        "# Optimizer and loss function\n",
        "optimizer = torch.optim.SGD(net.parameters(), lr=0.2)   # we set the learning rate to 0.2\n",
        "loss_func = torch.nn.MSELoss()"
      ],
      "execution_count": null,
      "outputs": []
    },
    {
      "cell_type": "markdown",
      "metadata": {
        "id": "kMxTg8kdJKOu"
      },
      "source": [
        "#### Data\n",
        "We also need some data which we will create below\n",
        "\n",
        "Tasks:\n",
        "1. Create a function $y = 3x^3 + x + \\epsilon$ where:\n",
        "  * $\\epsilon \\in \\mathfrak{U}(0, 1) $ \n",
        "  * Hint: use `np.random.rand` https://numpy.org/doc/stable/reference/random/generated/numpy.random.rand.html"
      ]
    },
    {
      "cell_type": "code",
      "metadata": {
        "colab": {
          "base_uri": "https://localhost:8080/",
          "height": 279
        },
        "id": "bP3fOg1IFmg3",
        "outputId": "5d2b8dd1-729c-4e8d-ea7e-14a812b5cf54"
      },
      "source": [
        "# We will have 100 samples\n",
        "N = 100\n",
        "x = np.linspace(-1, 1, N)\n",
        "y = # TODO\n",
        "\n",
        "plt.plot(x, y, '.')\n",
        "plt.xlim([-1.2, 1.2])\n",
        "plt.ylim([-4.5, 4.5])\n",
        "plt.grid()\n",
        "plt.xlabel('x')\n",
        "plt.ylabel('f(x)')\n",
        "plt.show()"
      ],
      "execution_count": null,
      "outputs": [
        {
          "output_type": "display_data",
          "data": {
            "image/png": "[encoded data removed]",
            "text/plain": [
              "<Figure size 432x288 with 1 Axes>"
            ]
          },
          "metadata": {
            "tags": [],
            "needs_background": "light"
          }
        }
      ]
    },
    {
      "cell_type": "markdown",
      "metadata": {
        "id": "tTMHdKP-JO04"
      },
      "source": [
        "#### Training steps\n",
        "\n",
        "A typical training procedure for a neural network is as follows:\n",
        "\n",
        "1. Define the neural network that has some learnable parameters (or weights)\n",
        "  * We did this above `MyFirstNetwork`\n",
        "2. Iterate over a number of epochs and for each epoch iterate over a dataset of inputs\n",
        "  * We will take all N inputs in our dataset as one batch so we will only iterate through epochs\n",
        "3. Clear the gradients - this step clears old gradients from the last step (otherwise you would just accumulate the gradients)\n",
        "  * `optimizer.zero_grad()`\n",
        "4. Process input through the network\n",
        "  * `prediction = net(inputs)`\n",
        "5. Compute the loss (how far is the output from being correct)\n",
        "  * `loss = loss_func(prediction, outputs)` \n",
        "    * Assuming we defined the `loss_func`; we will use Mean Squared Error loss `torch.nn.MSELoss()`\n",
        "6. Propagate gradients back into the network’s parameters\n",
        "  * `loss.backward()`\n",
        "7. Update the weights of the network\n",
        "  * `optimizer.step()`\n",
        "\n",
        "\n",
        "\n",
        "***Sidenote:*** Why do we clear the gradients? More info here: https://discuss.pytorch.org/t/why-do-we-need-to-set-the-gradients-manually-to-zero-in-pytorch/4903 and here https://discuss.pytorch.org/t/what-step-backward-and-zero-grad-do/33301"
      ]
    },
    {
      "cell_type": "code",
      "metadata": {
        "id": "idT81fNdOvqj",
        "colab": {
          "base_uri": "https://localhost:8080/"
        },
        "outputId": "9b47be10-fca6-42e0-b162-a8317a96d1ce"
      },
      "source": [
        "# First, we will convert our data to PyTorch tensors and reshape them to N x 1\n",
        "# This means we have a batch of 100 samples of size 1\n",
        "\n",
        "# convert numpy array to tensor in shape of input size\n",
        "x = Variable(torch.from_numpy(x.reshape(-1,1)).float())\n",
        "y = Variable(torch.from_numpy(y.reshape(-1,1)).float())\n",
        "print('x: ', x.size())\n",
        "print('y: ', y.size())\n"
      ],
      "execution_count": null,
      "outputs": [
        {
          "output_type": "stream",
          "text": [
            "x:  torch.Size([100, 1])\n",
            "y:  torch.Size([100, 1])\n"
          ],
          "name": "stdout"
        }
      ]
    },
    {
      "cell_type": "code",
      "metadata": {
        "colab": {
          "base_uri": "https://localhost:8080/",
          "height": 1000
        },
        "id": "p4fcIqYDF3lm",
        "outputId": "3b2f3189-2844-4c90-be30-69fb146f5541"
      },
      "source": [
        "# Now we can train\n",
        "\n",
        "# Our input is x\n",
        "inputs = x \n",
        "# Our expected output is y\n",
        "outputs = y \n",
        "\n",
        "# We will train for 400 epochs\n",
        "epochs = 400\n",
        "\n",
        "for i in range(epochs):\n",
        "    \n",
        "    # 1. Clear gradients \n",
        "    optimizer.zero_grad() \n",
        "    \n",
        "    # 2. This is the forward pass (calling the network on the input data)\n",
        "    prediction = net(inputs) \n",
        "    # 3. Compute loss by calling the loss function defined above\n",
        "    loss = loss_func(prediction, outputs) \n",
        "    # 4. Called the backwards pass \n",
        "    loss.backward()       \n",
        "    # 6. Update network parameters\n",
        "    optimizer.step() \n",
        "\n",
        "    # Display results\n",
        "    if i % 25 == 0:\n",
        "        # note how we need to tranform data back to numpy\n",
        "        plt.plot(x.data.numpy(), y.data.numpy(), 'b.', label='real data')\n",
        "        plt.plot(x.data.numpy(), prediction.data.numpy(), 'r.', label='predicted')\n",
        "        plt.xlim([-1.2, 1.2])\n",
        "        plt.ylim([-4.5, 4.5])\n",
        "        plt.grid()\n",
        "        plt.xlabel('x')\n",
        "        plt.ylabel('f(x)')\n",
        "        plt.title(f\"Epoch={i} | Loss={loss.data.numpy():.4f}\")\n",
        "        plt.pause(0.1)"
      ],
      "execution_count": null,
      "outputs": [
        {
          "output_type": "display_data",
          "data": {
            "image/png": "[encoded data removed]",
            "text/plain": [
              "<Figure size 432x288 with 1 Axes>"
            ]
          },
          "metadata": {
            "tags": [],
            "needs_background": "light"
          }
        },
        {
          "output_type": "display_data",
          "data": {
            "image/png": "[encoded data removed]",
            "text/plain": [
              "<Figure size 432x288 with 1 Axes>"
            ]
          },
          "metadata": {
            "tags": [],
            "needs_background": "light"
          }
        },
        {
          "output_type": "display_data",
          "data": {
            "image/png": "[encoded data removed]",
            "text/plain": [
              "<Figure size 432x288 with 1 Axes>"
            ]
          },
          "metadata": {
            "tags": [],
            "needs_background": "light"
          }
        },
        {
          "output_type": "display_data",
          "data": {
            "image/png": "[encoded data removed]",
            "text/plain": [
              "<Figure size 432x288 with 1 Axes>"
            ]
          },
          "metadata": {
            "tags": [],
            "needs_background": "light"
          }
        },
        {
          "output_type": "display_data",
          "data": {
            "image/png": "[encoded data removed]",
            "text/plain": [
              "<Figure size 432x288 with 1 Axes>"
            ]
          },
          "metadata": {
            "tags": [],
            "needs_background": "light"
          }
        },
        {
          "output_type": "display_data",
          "data": {
            "image/png": "[encoded data removed]",
            "text/plain": [
              "<Figure size 432x288 with 1 Axes>"
            ]
          },
          "metadata": {
            "tags": [],
            "needs_background": "light"
          }
        },
        {
          "output_type": "display_data",
          "data": {
            "image/png": "[encoded data removed]",
            "text/plain": [
              "<Figure size 432x288 with 1 Axes>"
            ]
          },
          "metadata": {
            "tags": [],
            "needs_background": "light"
          }
        },
        {
          "output_type": "display_data",
          "data": {
            "image/png": "[encoded data removed]",
            "text/plain": [
              "<Figure size 432x288 with 1 Axes>"
            ]
          },
          "metadata": {
            "tags": [],
            "needs_background": "light"
          }
        },
        {
          "output_type": "display_data",
          "data": {
            "image/png": "[encoded data removed]",
            "text/plain": [
              "<Figure size 432x288 with 1 Axes>"
            ]
          },
          "metadata": {
            "tags": [],
            "needs_background": "light"
          }
        },
        {
          "output_type": "display_data",
          "data": {
            "image/png": "[encoded data removed]",
            "text/plain": [
              "<Figure size 432x288 with 1 Axes>"
            ]
          },
          "metadata": {
            "tags": [],
            "needs_background": "light"
          }
        },
        {
          "output_type": "display_data",
          "data": {
            "image/png": "[encoded data removed]",
            "text/plain": [
              "<Figure size 432x288 with 1 Axes>"
            ]
          },
          "metadata": {
            "tags": [],
            "needs_background": "light"
          }
        },
        {
          "output_type": "display_data",
          "data": {
            "image/png": "[encoded data removed]",
            "text/plain": [
              "<Figure size 432x288 with 1 Axes>"
            ]
          },
          "metadata": {
            "tags": [],
            "needs_background": "light"
          }
        },
        {
          "output_type": "display_data",
          "data": {
            "image/png": "[encoded data removed]",
            "text/plain": [
              "<Figure size 432x288 with 1 Axes>"
            ]
          },
          "metadata": {
            "tags": [],
            "needs_background": "light"
          }
        },
        {
          "output_type": "display_data",
          "data": {
            "image/png": "[encoded data removed]",
            "text/plain": [
              "<Figure size 432x288 with 1 Axes>"
            ]
          },
          "metadata": {
            "tags": [],
            "needs_background": "light"
          }
        },
        {
          "output_type": "display_data",
          "data": {
            "image/png": "[encoded data removed]",
            "text/plain": [
              "<Figure size 432x288 with 1 Axes>"
            ]
          },
          "metadata": {
            "tags": [],
            "needs_background": "light"
          }
        },
        {
          "output_type": "display_data",
          "data": {
            "image/png": "[encoded data removed]",
            "text/plain": [
              "<Figure size 432x288 with 1 Axes>"
            ]
          },
          "metadata": {
            "tags": [],
            "needs_background": "light"
          }
        }
      ]
    },
    {
      "cell_type": "markdown",
      "metadata": {
        "id": "jhzj2Gc3qZ8m"
      },
      "source": [
        "## Part 2 - Data manipulation and handling\n",
        "\n",
        "Data handling is a very important step in a machine learning pipeline, especially when handling medical imaging datasets.\n",
        "\n",
        "**Takeaway points**: \n",
        "* Neural networks are generally trained using batches of data so most of the time your input data will have a certain shape. Some common examples are:\n",
        "  * Number_of_batches x Number_of_datapoints ***for fully connected networks***\n",
        "    * example: 16 x 784\n",
        "  * Number_of_batches x Number_of_channels x Number_of_points_in_x x Number_of_points_in_y ***for 2D convolutional neural networks***\n",
        "    * example: 16 x 3 x 64 x 64  *for 2D RGB data*\n",
        "  * Number_of_batches x Number_of_channels x Number_of_points_in_x x Number_of_points_in_y x Number_of_points_in_z ***for 3D convolutional neural networks***\n",
        "    * example: 2 x 1 x 64 x 64 x 64 *for 3D grayscale data*\n",
        "\n",
        "* We may want to *augment* the data using random transformations: rotations, translations, adding noise, etc. \n",
        "  * We do this to simulate having a larger training dataset\n",
        "  * Augmentation is generally applied on the training data only -- we leave the test data as it is\n",
        "\n",
        "* We also want to shuffle the data while training so that the neural network does not learn whether the ordering of our dataset is important\n",
        "\n",
        "* We may also want to load one item or Number_of_batches of items at one point in time so as to not load the entire dataset into the computer's memory\n",
        "\n",
        "* Most of these things and more are covered by the `Dataset` and `DataLoader` classes from Pytorch\n",
        "\n",
        "\n"
      ]
    },
    {
      "cell_type": "markdown",
      "metadata": {
        "id": "og4z1vZt1tDh"
      },
      "source": [
        "### Medical MNIST\n",
        "\n",
        "1. This dataset is known as the MedNIST dataset for radiology and medical imaging. \n",
        "2. The images have been gathered from several datasets – at TCIA, the RSNA Bone Age Challenge, and the NIH Chest X-ray dataset.\n",
        "3. It contains 58954 medical images belonging to 6 classes – ChestCT(10000 images), BreastMRI(8954 images), CXR(10000 images), Hand(10000 images), HeadCT(10000 images), AbdomenCT(10000 images). \n",
        "4. Images are in the dimensions of 64×64 pixels. \n",
        "5. Dataset size: 75.98 MB\n",
        "\n",
        "**Information**: \n",
        "* We will use a subset of the Medical MNIST which is found at https://www.dropbox.com/s/5wwskxctvcxiuea/MedNIST.tar.gz\n",
        "* We will select the hand images, the chest CT images, abdomen CT images and the head CT images from this dataset\n",
        "  * Each class has 10000 images\n",
        "  * We will use 800 for train, the following 100 for validation and 100 for test\n",
        "\n",
        "Run the cell below to extract the data in your current directory"
      ]
    },
    {
      "cell_type": "code",
      "metadata": {
        "colab": {
          "base_uri": "https://localhost:8080/"
        },
        "id": "DWyrHzf2d99r",
        "outputId": "d9a2ad0b-49db-42d0-d39b-01833dca7df3"
      },
      "source": [
        "###########################################\n",
        "# Extracting the MedNIST dataset to the current directory\n",
        "\n",
        "# Download MedNIST dataset\n",
        "!curl -L -o MedNISTSmall.tar.gz 'https://github.com/irinagrigorescu/tempmri/raw/main/MedNISTSmall.tar.gz'\n",
        "\n",
        "# unzip the '.tar.gz' file to the current directory\n",
        "datafile = tarfile.open(\"MedNISTSmall.tar.gz\")\n",
        "datafile.extractall()\n",
        "datafile.close()"
      ],
      "execution_count": null,
      "outputs": [
        {
          "output_type": "stream",
          "text": [
            "  % Total    % Received % Xferd  Average Speed   Time    Time     Time  Current\n",
            "                                 Dload  Upload   Total   Spent    Left  Speed\n",
            "100   148  100   148    0     0    329      0 --:--:-- --:--:-- --:--:--   330\n",
            "100 4109k  100 4109k    0     0  4784k      0 --:--:-- --:--:-- --:--:-- 19.5M\n"
          ],
          "name": "stdout"
        }
      ]
    },
    {
      "cell_type": "markdown",
      "metadata": {
        "id": "kCiuw74cnFw2"
      },
      "source": [
        "### Splitting the data into train / validation / test\n",
        "\n",
        "We will now divide the data into three separate datasets: one for training, one used for validating our model during training, and one for testing our final model.\n",
        "\n",
        "* The code below selects 4 classes from our dataset: 'Hand', 'ChestCT', 'HeadCT', 'AbdomenCT'\n",
        "* It then selects the first 800 from each class for training, the next 100 from each class for validation and the last 100 from each class for testing the model."
      ]
    },
    {
      "cell_type": "code",
      "metadata": {
        "colab": {
          "base_uri": "https://localhost:8080/"
        },
        "id": "H7zPnrwbeU3R",
        "outputId": "840269d3-d1b0-4f0a-c479-5b8d51a91c6f"
      },
      "source": [
        "###########################################\n",
        "# Get data\n",
        "data_dir = Path('./MedNISTSmall/')\n",
        "# class_names = sorted([p.stem for p in data_dir.iterdir() if p.is_dir()]) \n",
        "\n",
        "# Choose image files from the three classes below\n",
        "class_names = ['Hand', 'ChestCT', 'HeadCT', 'AbdomenCT']\n",
        "image_files = [[x for x in (data_dir / class_name).iterdir()] for class_name in class_names]\n",
        "\n",
        "# Create a training / validation / testing split for the images\n",
        "# 800 hand + 800 chest + 800 head + 800 abdomen        TRAIN\n",
        "dataset_train = image_files[0][:800] + image_files[1][:800] + image_files[2][:800] + image_files[3][:800]        \n",
        "\n",
        "# 100 hand + 100 chest + 100 head + 100 abdomen        VALIDATION\n",
        "dataset_valid = image_files[0][800:900] + image_files[1][800:900] + image_files[2][800:900] + image_files[3][800:900]\n",
        "\n",
        "# 100 hand + 100 chest + 100 head + 100 abdomen        TEST\n",
        "dataset_test  = image_files[0][900:] + image_files[1][900:] + image_files[2][900:] + image_files[3][900:]\n",
        "\n",
        "# Create a training / validation / testing split for the labels \n",
        "labels_train = [\"hand\"] * 800 + [\"chest\"] * 800 + [\"head\"] * 800 + [\"abdomen\"] * 800 \n",
        "labels_valid = [\"hand\"] * 100 + [\"chest\"] * 100 + [\"head\"] * 100 + [\"abdomen\"] * 100 \n",
        "labels_test = [\"hand\"] * 100 + [\"chest\"] * 100 + [\"head\"] * 100 + [\"abdomen\"] * 100  \n",
        "\n",
        "print('train', len(dataset_train), len(labels_train))\n",
        "print('valid', len(dataset_valid), len(labels_valid)) \n",
        "print('test ', len(dataset_test), len(labels_test))"
      ],
      "execution_count": null,
      "outputs": [
        {
          "output_type": "stream",
          "text": [
            "train 3200 3200\n",
            "valid 400 400\n",
            "test  400 400\n"
          ],
          "name": "stdout"
        }
      ]
    },
    {
      "cell_type": "markdown",
      "metadata": {
        "id": "cO85gn1s5ENC"
      },
      "source": [
        "\n",
        "A big part of a deep learning or a machine learning pipeline is preparing the dataset. \n",
        "For this, PyTorch provides tools to load, preprocess and even augment your data in order to make it ready for being used by your networks.\n",
        "\n",
        "\n",
        "Our dataset consists of jpeg files stored under the folder `MedNISTSmall` which we have downloaded previously.\n",
        "This folder contains 4 subfolders: `AbdomenCT  ChestCT  Hand  HeadCT`\n",
        "\n",
        "You can see this for yourself by running the next cell.\n",
        "\n",
        "\n"
      ]
    },
    {
      "cell_type": "code",
      "metadata": {
        "colab": {
          "base_uri": "https://localhost:8080/"
        },
        "id": "lVXU0UuKoq7Q",
        "outputId": "45fce1c0-5af3-4ef1-9bef-2482c143ff78"
      },
      "source": [
        "!ls -l MedNISTSmall\n",
        "# !ls MedNISTSmall/Hand"
      ],
      "execution_count": null,
      "outputs": [
        {
          "output_type": "stream",
          "text": [
            "total 160\n",
            "drwxr-xr-x 2 9364 2008 36864 Nov 30 18:20 AbdomenCT\n",
            "drwxr-xr-x 2 9364 2008 36864 Nov 30 18:20 ChestCT\n",
            "drwxr-xr-x 2 9364 2008 36864 Nov 30 18:20 Hand\n",
            "drwxr-xr-x 2 9364 2008 36864 Nov 30 18:20 HeadCT\n"
          ],
          "name": "stdout"
        }
      ]
    },
    {
      "cell_type": "markdown",
      "metadata": {
        "id": "ruYX7_Hgo29m"
      },
      "source": [
        "***Reminder***\n",
        "\n",
        "From the splitting we have done above, we also have a list of files names in the following variables\n",
        "* dataset_train\n",
        "* dataset_valid\n",
        "* dataset_test\n",
        "\n",
        "And for each list of files we have the corresponding label:\n",
        "* labels_train\n",
        "* labels_valid\n",
        "* labels_test\n",
        "\n",
        "For example: \n",
        "\n"
      ]
    },
    {
      "cell_type": "code",
      "metadata": {
        "colab": {
          "base_uri": "https://localhost:8080/"
        },
        "id": "TLZSbobIpctY",
        "outputId": "997e3a24-e9a9-4628-b8d1-7d8482ec18d5"
      },
      "source": [
        "print('Files names')\n",
        "print(dataset_train[::100])\n",
        "\n",
        "print('\\n\\nLabels')\n",
        "print(labels_train[::100])"
      ],
      "execution_count": null,
      "outputs": [
        {
          "output_type": "stream",
          "text": [
            "Files names\n",
            "[PosixPath('MedNISTSmall/Hand/002348.jpeg'), PosixPath('MedNISTSmall/Hand/003896.jpeg'), PosixPath('MedNISTSmall/Hand/008608.jpeg'), PosixPath('MedNISTSmall/Hand/003760.jpeg'), PosixPath('MedNISTSmall/Hand/000564.jpeg'), PosixPath('MedNISTSmall/Hand/004842.jpeg'), PosixPath('MedNISTSmall/Hand/007518.jpeg'), PosixPath('MedNISTSmall/Hand/003734.jpeg'), PosixPath('MedNISTSmall/ChestCT/002348.jpeg'), PosixPath('MedNISTSmall/ChestCT/003896.jpeg'), PosixPath('MedNISTSmall/ChestCT/008608.jpeg'), PosixPath('MedNISTSmall/ChestCT/003760.jpeg'), PosixPath('MedNISTSmall/ChestCT/000564.jpeg'), PosixPath('MedNISTSmall/ChestCT/004842.jpeg'), PosixPath('MedNISTSmall/ChestCT/007518.jpeg'), PosixPath('MedNISTSmall/ChestCT/003734.jpeg'), PosixPath('MedNISTSmall/HeadCT/002348.jpeg'), PosixPath('MedNISTSmall/HeadCT/003896.jpeg'), PosixPath('MedNISTSmall/HeadCT/008608.jpeg'), PosixPath('MedNISTSmall/HeadCT/003760.jpeg'), PosixPath('MedNISTSmall/HeadCT/000564.jpeg'), PosixPath('MedNISTSmall/HeadCT/004842.jpeg'), PosixPath('MedNISTSmall/HeadCT/007518.jpeg'), PosixPath('MedNISTSmall/HeadCT/003734.jpeg'), PosixPath('MedNISTSmall/AbdomenCT/002348.jpeg'), PosixPath('MedNISTSmall/AbdomenCT/003896.jpeg'), PosixPath('MedNISTSmall/AbdomenCT/008608.jpeg'), PosixPath('MedNISTSmall/AbdomenCT/003760.jpeg'), PosixPath('MedNISTSmall/AbdomenCT/000564.jpeg'), PosixPath('MedNISTSmall/AbdomenCT/004842.jpeg'), PosixPath('MedNISTSmall/AbdomenCT/007518.jpeg'), PosixPath('MedNISTSmall/AbdomenCT/003734.jpeg')]\n",
            "\n",
            "\n",
            "Labels\n",
            "['hand', 'hand', 'hand', 'hand', 'hand', 'hand', 'hand', 'hand', 'chest', 'chest', 'chest', 'chest', 'chest', 'chest', 'chest', 'chest', 'head', 'head', 'head', 'head', 'head', 'head', 'head', 'head', 'abdomen', 'abdomen', 'abdomen', 'abdomen', 'abdomen', 'abdomen', 'abdomen', 'abdomen']\n"
          ],
          "name": "stdout"
        }
      ]
    },
    {
      "cell_type": "markdown",
      "metadata": {
        "id": "IhVVPlBcqD2b"
      },
      "source": [
        "### Dataset and dataloaders for the MedNIST dataset\n",
        "\n",
        "In this part of the tutorial you will learn how to create a custom dataset class. This allows the machine learning engineer to load data on the fly and prepare it for training.\n",
        "\n",
        "**The Dataset class**\n",
        "\n",
        "`torch.utils.data.Dataset` is an abstract class representing a dataset. \n",
        "The following two methods need to be coded up:\n",
        "\n",
        "* `__len__` so that len(dataset) returns the size of the dataset.\n",
        "* `__getitem__` to support the indexing such that dataset[i] can be used to get your ith sample\n",
        "\n",
        "**Our custom Dataset**\n",
        "\n",
        "In our custom dataset we will write:\n",
        "* `__init__` (the constructor of this class) -- here we will store the images and labels file names. Basically, we will be calling MedNISTDataset with different variables for our three different cases (train/validate/test)\n",
        "  * example: `train_ds = MedNISTDataset(dataset_train, labels_train)` where `dataset_train` and `labels_train` were defined above\n",
        "  * It also has an optional variable called `transform` which will contain the necessary functions that preprocess each image\n",
        "* `__len__` only returns the dataset length\n",
        "* `__getitem__` we will read the image, preprocess it, and transform it into a tensor\n",
        "  * This method will return a `sample` of our dataset as a dictionary containing` {'image': data, 'label': label}`\n",
        "\n",
        "\n",
        "\n",
        "\n",
        "For more information check this tutorial:  https://pytorch.org/tutorials/beginner/data_loading_tutorial.html"
      ]
    },
    {
      "cell_type": "markdown",
      "metadata": {
        "id": "I7GNzGU4orE7"
      },
      "source": [
        "\n",
        "**Tasks**:\n",
        "\n",
        "1. Return the length of your dataset inside the method `__len__`\n",
        "  * Hint: the list of images is stored in `self.images_location`\n",
        "\n",
        "2. Create a dictionary variable called `sample` with keys *'image'* and *'label'* and values \n",
        "  `image_data` and `label_data`"
      ]
    },
    {
      "cell_type": "code",
      "metadata": {
        "id": "L29R-R0EST9n"
      },
      "source": [
        "LABEL_MAPPING = {\"hand\": 0, \"chest\": 1, \"head\": 2, \"abdomen\": 3}\n",
        "INV_LABEL_MAPPING = {0: \"hand\", 1: \"chest\", 2: \"head\", 3: \"abdomen\"}\n",
        "\n",
        "class MedNISTDataset(torch.utils.data.Dataset): \n",
        "\n",
        "  def __init__(self, images_location, labels_location, transform=None):\n",
        "    \"\"\"\n",
        "    Args:\n",
        "    images_location: paths to the image files\n",
        "    labels_location: label for each file\n",
        "    \"\"\"\n",
        "    self.images_location = images_location\n",
        "    self.labels_location = labels_location\n",
        "    self.transform = transform\n",
        "\n",
        "  def __len__(self):       \n",
        "    \"\"\"\n",
        "    Number of samples inside the dataset\n",
        "    Returns: length of dataset\n",
        "    \"\"\"\n",
        "    return    # TODO\n",
        "\n",
        "  def __getitem__(self, idx):\n",
        "    \"\"\"\n",
        "    Select an individual sample from the dataset\n",
        "\n",
        "    Args:\n",
        "      index: index of sample to draw\n",
        "\n",
        "    Return:\n",
        "      Dict[str, torch.Tensor]: single sample\n",
        "        * `image`: image data\n",
        "        * `label`: label for sample\n",
        "    \"\"\"\n",
        "    # Get name of image\n",
        "    image_name = self.images_location[idx] \n",
        "\n",
        "    # Get corresponding label\n",
        "    label_name = self.labels_location[idx] \n",
        "\n",
        "    # Load files\n",
        "    image_data = np.array(Image.open(image_name))\n",
        "    label_data = LABEL_MAPPING[label_name]\n",
        "\n",
        "    # Create sample\n",
        "    sample =   # TODO\n",
        "\n",
        "    # Transform sample\n",
        "    if self.transform:\n",
        "        sample = self.transform(sample)\n",
        "    \n",
        "    return sample\n"
      ],
      "execution_count": null,
      "outputs": []
    },
    {
      "cell_type": "markdown",
      "metadata": {
        "id": "jh1-8JWg5O_c"
      },
      "source": [
        "### Custom transforms for the dataset\n",
        "\n",
        "The class created above will now give you an image and a label.\n",
        "However, a few preprocessing steps are needed.\n",
        "\n",
        "First, the images might be of different sizes and that can lead to problems when training a network which expects a similar sized input data point each time.\n",
        "The image could also be too big to fit in memory and each data point could have intensity values that vary too wildly (one image could have values between 0 and 1 and another between 0 and 255).\n",
        "\n",
        "Some of these preprocessing steps can be done beforehand; meaning, you can preprocess your dataset (scaling, cropping, intensity normalisation) and store it in a folder, but PyTorch also allows you to do this one the fly.\n",
        "\n",
        "The following classes (`Rescale`, `Normalise`, `ToTensor`) expect as input a sample from your dataset. \n",
        "More specifically, they expect to receive as input a dictionary of the form:\n",
        "  * `{'image': image_data, 'label': label_data}`\n",
        "They then preprocess this input data and output a similar dictionary:\n",
        "  * `{'image': preprocessed_image_data, 'label': preprocessed_label_data}`\n",
        "  * Sometimes you only want to preprocess the image data, but leave the label as it is. In that case the output dictionary will leave the label data unchanged: `{'image': preprocessed_image_data, 'label': label_data}`\n",
        "\n",
        "\n",
        "**Tasks:**\n",
        "\n",
        "1. `Rescale`\n",
        "  * Resize the input image to a new size determined by the `new_h`, `new_w` variables.\n",
        "    * Hint: Inside `Rescale` class's `__call__` method use Skimage's function `transform.resize(array, (new_size_x, new_size_y)` https://scikit-image.org/docs/dev/api/skimage.transform.html#skimage.transform.resize\n",
        "\n",
        "2. `Normalise`\n",
        "  * Normalie the image data (leave the label unchanged) between [self.min, self.max]\n",
        "    * Hint: https://stats.stackexchange.com/a/178629\n",
        "\n",
        "3. `ToTensor`\n",
        "  * Transform the image data from numpy into a PyTorch tensor (the label data has been done for you)\n",
        "  * Bonus: What does `None` do on this line?\n",
        "    * `sample = {'image': img_torch[None].float(), 'label': lab_torch.long()}`\n"
      ]
    },
    {
      "cell_type": "code",
      "metadata": {
        "id": "LTZ3JXHi5Suj"
      },
      "source": [
        "from skimage import transform\n",
        "\n",
        "\n",
        "class Rescale(object):\n",
        "  \"\"\"\n",
        "  Rescale the image in a sample to a given size.\n",
        "\n",
        "  Args:\n",
        "      output_size (tuple or int): Desired output size\n",
        "  \"\"\"\n",
        "\n",
        "  def __init__(self, output_size=(32, 32)):\n",
        "      assert isinstance(output_size, (tuple))\n",
        "      self.output_size = output_size\n",
        "\n",
        "  def __call__(self, sample):\n",
        "    image, label = sample['image'], sample['label']\n",
        "\n",
        "    # Get current size of the image\n",
        "    h, w = image.shape[:2]\n",
        "\n",
        "    # new size of image is stored in output_size\n",
        "    new_h, new_w = self.output_size\n",
        "    new_h, new_w = int(new_h), int(new_w)\n",
        "\n",
        "    # Rescale image\n",
        "    img = # TODO\n",
        "\n",
        "    return {'image': img, 'label': label}\n",
        "\n",
        "\n",
        "class Normalise(object):\n",
        "  \"\"\"\n",
        "  Normalise the intensities in an image to min_ -> max_\n",
        "  \"\"\"\n",
        "  def __init__(self, min_=0, max_=1):\n",
        "    self.min = min_\n",
        "    self.max = max_\n",
        "\n",
        "  def __call__(self, sample):\n",
        "    image, label = sample['image'], sample['label']\n",
        "\n",
        "    # Normalise between  [self.min, self.max]\n",
        "    image = # TODO\n",
        "\n",
        "    # Create sample\n",
        "    sample = {'image': image, \n",
        "              'label': label}  \n",
        "\n",
        "    return sample\n",
        "\n",
        "\n",
        "class ToTensor(object):\n",
        "  \"\"\"\n",
        "  Convert ndarrays in sample to Tensors.\n",
        "  \"\"\"\n",
        "\n",
        "  def __call__(self, sample):\n",
        "    image, label = sample['image'], sample['label']\n",
        "\n",
        "    # PyTorchify\n",
        "    img_torch = # TODO \n",
        "    lab_torch = torch.tensor(label)\n",
        "\n",
        "    # Create sample of tensors here:\n",
        "    sample = {'image': img_torch[None].float(), \n",
        "              'label': lab_torch.long()}\n",
        "\n",
        "    return sample"
      ],
      "execution_count": null,
      "outputs": []
    },
    {
      "cell_type": "markdown",
      "metadata": {
        "id": "rgDm1p8p5Wha"
      },
      "source": [
        "### Create training / validation / test loaders\n",
        "\n",
        "We are now ready to put everything together and have a train / validation / test datasets.\n",
        "\n",
        "Check and run the code below.\n",
        "\n",
        "***Reminder:***\n",
        "The `MedNISTDataset` takes as input a list of file locations for the images (e.g. dataset_train), a list of labels (e.g. labels_train) and an optional transform.\n",
        "In our case we call `transforms.Compose` from `torchvision` in order to compose the transformations we defined above:\n",
        "  `transforms.Compose([Normalise(), Rescale(), ToTensor()])`\n",
        "\n",
        "We then do the same for the validation dataset and the test dataset."
      ]
    },
    {
      "cell_type": "code",
      "metadata": {
        "id": "300rt-J6SUAA"
      },
      "source": [
        "# Train / validation / test datasets\n",
        "train_ds = MedNISTDataset(dataset_train, labels_train, \n",
        "                          transforms.Compose([Normalise(), Rescale(), ToTensor()]))\n",
        "valid_ds = MedNISTDataset(dataset_valid, labels_valid, \n",
        "                          transforms.Compose([Normalise(), Rescale(), ToTensor()]))\n",
        "test_ds = MedNISTDataset(dataset_test, labels_test, \n",
        "                         transforms.Compose([Normalise(), Rescale(), ToTensor()]))"
      ],
      "execution_count": null,
      "outputs": []
    },
    {
      "cell_type": "markdown",
      "metadata": {
        "id": "uIuIMxvHyF10"
      },
      "source": [
        "We then use these datasets with `torch.utils.data.DataLoader` which takes as input:\n",
        "* dataset: dataset from which to load the data (dataset of type torch.utils.data.dataset.Dataset -- which we defined above)\n",
        "* batch_size:  how many samples per batch to load (default: 1)\n",
        "* shuffle: True | False depending on whether you want your data to be shuffled\n",
        "* num_workers: how many subprocesses to use for data loading. 0 means that the data will be loaded in the main process.\n",
        "* ...\n",
        "\n",
        "\n",
        "More info here: https://pytorch.org/docs/stable/data.html#torch.utils.data.DataLoader\n",
        "\n",
        "\n",
        "**Tasks**:\n",
        "1. Run the code below and check the sizes of the training data\n",
        "  * For the `image_train.shape: torch.Size([8, 1, 32, 32])` example, what does 8 stand for? What about 1? "
      ]
    },
    {
      "cell_type": "code",
      "metadata": {
        "id": "HlsMI4fmyF9N"
      },
      "source": [
        "# Dataloader properties\n",
        "batch_size = 8\n",
        "\n",
        "# Train / validation / test dataloaders\n",
        "dataloaders = {\n",
        "    \"train\": torch.utils.data.DataLoader(train_ds,\n",
        "                                         batch_size=batch_size, \n",
        "                                         shuffle=True,\n",
        "                                         num_workers=8),\n",
        "    \"valid\": torch.utils.data.DataLoader(valid_ds,\n",
        "                                         batch_size=batch_size, \n",
        "                                         shuffle=True,\n",
        "                                         num_workers=8),\n",
        "    \"test\": torch.utils.data.DataLoader(test_ds,\n",
        "                                        batch_size=1, \n",
        "                                        shuffle=False,   \n",
        "                                        num_workers=1)\n",
        "}\n",
        "\n",
        "\n",
        "# Let's check the training dataloader\n",
        "for i, batch in enumerate(dataloaders[\"train\"]):\n",
        "  image_train, label_train = batch['image'], batch['label']\n",
        "  print('\\n\\nimage_train.shape', image_train.shape)\n",
        "  print('label_train.shape', label_train.shape)\n",
        "  print('plot image')\n",
        "\n",
        "  plt.imshow(image_train[0,0])\n",
        "  # plt.title(label_train[0])\n",
        "  plt.title(INV_LABEL_MAPPING[int(label_train[0].numpy())])\n",
        "  plt.colorbar()\n",
        "  plt.show()\n",
        "\n",
        "  print('...')\n",
        "\n",
        "  # Break the loop early as we only want to look at a few examples:\n",
        "  if i > 3:\n",
        "    break"
      ],
      "execution_count": null,
      "outputs": []
    },
    {
      "cell_type": "markdown",
      "metadata": {
        "id": "Ox4mh1Gvyro0"
      },
      "source": [
        "## Part 3 - Fully Connected Networks\n",
        "\n"
      ]
    },
    {
      "cell_type": "markdown",
      "metadata": {
        "id": "eEQu6j8P8hOq"
      },
      "source": [
        "### Creating a fully connected network in PyTorch\n",
        "\n",
        "We are now ready to put together Parts 1 and 2: create a fully connected network and train it on the MedNIST dataset using the dataloaders we created above.\n",
        "\n",
        "__Tasks:__ \n",
        "\n",
        "1. Create a `FullyConnectedNetwork` model with:\n",
        "  * one linear layer that goes from 1024 to 64\n",
        "    * 1024 is the input size because our images are 32x32. We vectorise them and feed this 1D vector as input to the network\n",
        "  * a second linear layer from 64 to n_classes (n_classes will be 4 because we have 4 classes in our dataset)\n",
        "  * a softmax layer\n",
        "    * Hint: You need to give it dim = 1 because you want the softmax to be applied across the features instead of the batches https://pytorch.org/docs/stable/generated/torch.nn.Softmax.html\n",
        "\n",
        "2. In the `forward` method do the following:\n",
        "  * reshape your input data\n",
        "    * Because your input data will be of size `N_batches x N_channels x 32 x 32` (remember that for grayscale data N_channels is 1) so the first thing to do is to reshape the input data to `N_batches x N_features`\n",
        "    * Hint: `view(...)`  Check *Part 0 - View* and more info here: https://pytorch.org/docs/stable/tensors.html\n",
        "  * Apply the first linear layer, followed by a ReLU activation, then the second layer and then apply a Softmax\n",
        "\n",
        "\n"
      ]
    },
    {
      "cell_type": "code",
      "metadata": {
        "id": "UIjyk_Vyyst2"
      },
      "source": [
        "# In case you have a GPU it will run the network on the GPU\n",
        "device = torch.device(\"cuda\" if torch.cuda.is_available() else \"cpu\")\n",
        "\n",
        "# This method initializes the weights of the network\n",
        "def init_weights(net):\n",
        "  \"\"\"\n",
        "  Initialise weights of the network\n",
        "  \"\"\"\n",
        "  def init_func(m):\n",
        "    classname = m.__class__.__name__\n",
        "    if hasattr(m, 'weight') and (classname.find('Conv') != -1 or classname.find('Linear') != -1):\n",
        "      init.kaiming_normal_(m.weight, mode='fan_out')\n",
        "      if hasattr(m, 'bias') and m.bias is not None:\n",
        "        init.constant_(m.bias, 0.0)\n",
        "    elif classname.find('BatchNorm2d') != -1:\n",
        "      init.constant_(m.weight, 1.0)\n",
        "      init.constant_(m.bias, 0.0)\n",
        "    \n",
        "    print('Network initialized with kaiming_normal_.')\n",
        "    net.apply(init_func)\n",
        "\n",
        "# Your fully connected network\n",
        "class FullyConnectedNetwork(nn.Module):\n",
        "    \n",
        "    def __init__(self, n_classes=4):\n",
        "        super(FullyConnectedNetwork, self).__init__()\n",
        "        \n",
        "        self.fc1 = # TODO\n",
        "        self.fc2 = # TODO\n",
        "        self.softmax =  # TODO\n",
        "\n",
        "        init_weights(self)\n",
        "        \n",
        "    def forward(self, x): \n",
        "        # Flatten the MedMNIST images to a 32*32 feature vector \n",
        "        # remember that each image was rescale to a 32 x 32 size\n",
        "        x = # TODO\n",
        "\n",
        "        x = # TODO\n",
        "        x = # TODO\n",
        "\n",
        "        return x\n",
        "\n",
        "# After we have defined our model we load it onto our device\n",
        "model = FullyConnectedNetwork().to(device) "
      ],
      "execution_count": null,
      "outputs": []
    },
    {
      "cell_type": "markdown",
      "metadata": {
        "id": "ShMuNhzwig2u"
      },
      "source": [
        "### Train the network\n",
        "\n",
        "**Tasks:**\n",
        "\n",
        "1. Set your training variables:\n",
        "  * 10 epochs, a learning rate of 0.01\n",
        "\n",
        "2. Create your loss function: we will be using the `CrossEntropyLoss`\n",
        "  * https://pytorch.org/docs/stable/generated/torch.nn.CrossEntropyLoss.html#torch.nn.CrossEntropyLoss\n",
        "\n",
        "3. Create your optimizer:\n",
        "  * Use Stochastic Gradient Descent\n",
        "\n",
        "4. In the training phase do the following:\n",
        "  1. Clear the gradients\n",
        "  2. Process input through the network  \n",
        "  3. Compute the loss between prediction and ground truth\n",
        "  4. Propagate gradients back into the network’s parameters  \n",
        "  5. Update the weights of the network\n",
        "\n",
        "\n",
        "If it's too slow remember that you can change the Runtime type to GPU in Google Colab"
      ]
    },
    {
      "cell_type": "code",
      "metadata": {
        "id": "uEf1SnY5Tell"
      },
      "source": [
        "#####################################################\n",
        "# Variables for train\n",
        "n_epochs = # todo\n",
        "learning_rate = # todo\n",
        "to_plot = True\n",
        "\n",
        "loss_function =  # todo\n",
        "optim =  # todo\n",
        "        \n",
        "# Metrics to store during training\n",
        "metrics = {'loss_train': [], 'loss_valid': [],\n",
        "           'acc_train': [], 'acc_valid': []}\n",
        "\n",
        "# Go through each epoch\n",
        "#####################################################\n",
        "for epoch in range(0, n_epochs):\n",
        "\n",
        "  # Print learning rate for each epoch -- good for when you have a LR scheduler\n",
        "  lr = optim.param_groups[0]['lr']\n",
        "  print('LEARNING RATE = %.7f' % lr)\n",
        "\n",
        "  # Save time to calculate how long it took\n",
        "  start_time = time.time()\n",
        "\n",
        "  # Set plotted to false at the start of each epoch\n",
        "  plotted = False\n",
        "\n",
        "  # Append emtpy list so that each epoch has a list of values\n",
        "  for key_ in metrics.keys():\n",
        "    metrics[key_].append([])\n",
        "\n",
        "  # Go through each phase TRAIN/VALID\n",
        "  #####################################################  \n",
        "  for phase in ['train', 'valid']:\n",
        "\n",
        "    # Go through each data point in either train or validation\n",
        "    #####################################################  \n",
        "    for i, data_point in enumerate(dataloaders[phase]):\n",
        "      \n",
        "      # Calculates step\n",
        "      length_dataloader = len(dataloaders[phase])\n",
        "      step = epoch * length_dataloader + i + 1\n",
        "\n",
        "      # Fetch batch of data\n",
        "      ##################################################\n",
        "      # Image data\n",
        "      img_input = Variable(data_point['image']).to(device)\n",
        "      \n",
        "      # Label data\n",
        "      lab_gt = Variable(data_point['label']).to(device)\n",
        "\n",
        "      # TRAIN\n",
        "      ##################################################\n",
        "      if phase == 'train':\n",
        "        # 1) Set optimiser to zero grad\n",
        "        # todo\n",
        "\n",
        "        # 2) Forward pass through network\n",
        "        prediction =   # todo  \n",
        "\n",
        "        # 3) Calculate loss\n",
        "        current_loss =   # todo\n",
        "\n",
        "        # Store metrics\n",
        "        metrics['loss_train'][-1].append(current_loss.item())\n",
        "        accuracy = sum([1 for x,y in \n",
        "                        zip(np.argmax(prediction.cpu().data.numpy(), axis=1), \n",
        "                            lab_gt.cpu().data.numpy()) if x == y]) / lab_gt.shape[0]\n",
        "        metrics['acc_train'][-1].append(accuracy * 100.)     \n",
        "        \n",
        "        # 4) Perform backward pass\n",
        "        # todo   \n",
        "\n",
        "        # 5) Update weights\n",
        "        # todo\n",
        "\n",
        "      # Validate\n",
        "      ##################################################\n",
        "      if phase == 'valid':\n",
        "        model.eval()\n",
        "\n",
        "        # Prediction is done without gradients\n",
        "        with torch.no_grad():\n",
        "          prediction_val = model(img_input)\n",
        "\n",
        "          # Calculate loss\n",
        "          current_loss = loss_function(prediction_val, lab_gt)\n",
        "\n",
        "          # Store metrics\n",
        "          metrics['loss_valid'][-1].append(current_loss.item())\n",
        "          accuracy = sum([1 for x,y in \n",
        "                        zip(np.argmax(prediction_val.cpu().data.numpy(), axis=1), \n",
        "                            lab_gt.cpu().data.numpy()) if x == y]) / lab_gt.shape[0]\n",
        "          metrics['acc_valid'][-1].append(accuracy * 100.)     \n",
        "\n",
        "          # Plot once in a while\n",
        "          if to_plot and epoch % 5 == 0 and plotted is False:\n",
        "            plt.imshow(img_input.cpu().data.numpy()[0, 0], cmap='Greys_r')\n",
        "            title  = f\"Pred: {np.argmax(prediction_val.cpu().data.numpy()[0])} | \"\n",
        "            title += f\"Gt: {lab_gt.cpu().data.numpy()[0]}\"\n",
        "            plt.title(title)\n",
        "            plt.colorbar()\n",
        "            plt.xticks([])\n",
        "            plt.yticks([])\n",
        "            plt.show()\n",
        "\n",
        "            plotted = True\n",
        "\n",
        "      # PRINT STATS\n",
        "      ###################################################\n",
        "      if i % 50 == 0:\n",
        "        time_elapsed = time.time() - start_time\n",
        "        print(\"%s Epoch: (%3d) (%5d/%5d) (%3d) | Loss:%.2e | %.0fm %.2fs\" %\n",
        "              (phase.upper(), epoch, i + 1, length_dataloader, step,\n",
        "              current_loss.item(), time_elapsed // 60, time_elapsed % 60))\n",
        "        \n",
        "      # if i > 5:\n",
        "      #   break\n"
      ],
      "execution_count": null,
      "outputs": []
    },
    {
      "cell_type": "markdown",
      "metadata": {
        "id": "G23LT_mCkDpO"
      },
      "source": [
        "### Let's plot the losses\n",
        "\n",
        "**Tasks:**\n",
        "1. Call the `plot_losses_metrics()` on the metrics dictionary to plot the losses"
      ]
    },
    {
      "cell_type": "code",
      "metadata": {
        "id": "guyFdnjxZvUp"
      },
      "source": [
        "#############################################\n",
        "def plot_losses_metrics(metrics_):\n",
        "  ###############\n",
        "  keys_ = metrics_.keys()\n",
        "  n_subplots_ = len(keys_) // 2\n",
        "  n_epochs_ = len(metrics_[list(keys_)[0]])\n",
        "\n",
        "  # Plot\n",
        "  plt.figure(figsize=(12, 4))\n",
        "\n",
        "  ###############\n",
        "  idx = 0\n",
        "  for key_ in keys_:\n",
        "    if 'train' in key_:\n",
        "        # Plot training / validation curves in the first subplot\n",
        "        plt.subplot(1, n_subplots_, idx + 1)\n",
        "        idx += 1\n",
        "\n",
        "        # Train\n",
        "        plt.plot(np.arange(0, n_epochs_), \n",
        "                [np.mean(x) for x in metrics_[key_]], 'r-', label=key_)\n",
        "        plt.fill_between(np.arange(0, n_epochs), \n",
        "                [np.mean(x)+np.std(x) for x in metrics_[key_]],\n",
        "                [np.mean(x)-np.std(x) for x in metrics_[key_]], color='red', alpha=0.1)\n",
        "        # Validation\n",
        "        val_key = key_.split('_train')[0]+'_valid'\n",
        "        plt.plot(np.arange(0, n_epochs), \n",
        "                [np.mean(x) for x in metrics_[val_key]], 'b-', label=val_key)\n",
        "        plt.fill_between(np.arange(0, n_epochs), \n",
        "                [np.mean(x)+np.std(x) for x in metrics_[val_key]],\n",
        "                [np.mean(x)-np.std(x) for x in metrics_[val_key]], color='blue', alpha=0.1)\n",
        "        plt.legend()\n",
        "        plt.xlabel('epochs')\n",
        "        plt.ylabel(key_.split('_train')[0])\n",
        "\n",
        "  plt.show()\n",
        "\n",
        "# Call the plotting function\n",
        "# TODO"
      ],
      "execution_count": null,
      "outputs": []
    },
    {
      "cell_type": "markdown",
      "metadata": {
        "id": "xJf1oKGxmGjH"
      },
      "source": [
        "### Let's test our model on the test dataset\n",
        "\n"
      ]
    },
    {
      "cell_type": "code",
      "metadata": {
        "colab": {
          "base_uri": "https://localhost:8080/"
        },
        "id": "hCVYHDP3ZzNQ",
        "outputId": "5980e1a1-19aa-4036-ab20-0ea4da90b5ab"
      },
      "source": [
        "##################################################\n",
        "# A little dictionary for me to store the accuracy for each label type\n",
        "metrics = {'acc': 0}\n",
        "metrics.update({k+'_gt' : 0 for k in LABEL_MAPPING})  # ground truth labels\n",
        "metrics.update({k+'_pr' : 0 for k in LABEL_MAPPING})  # predicted labels\n",
        "\n",
        "print(LABEL_MAPPING)\n",
        "print(INV_LABEL_MAPPING)\n",
        "print(metrics)"
      ],
      "execution_count": null,
      "outputs": [
        {
          "output_type": "stream",
          "text": [
            "{'hand': 0, 'chest': 1, 'head': 2, 'abdomen': 3}\n",
            "{0: 'hand', 1: 'chest', 2: 'head', 3: 'abdomen'}\n",
            "{'acc': 0, 'hand_gt': 0, 'chest_gt': 0, 'head_gt': 0, 'abdomen_gt': 0, 'hand_pr': 0, 'chest_pr': 0, 'head_pr': 0, 'abdomen_pr': 0}\n"
          ],
          "name": "stdout"
        }
      ]
    },
    {
      "cell_type": "markdown",
      "metadata": {
        "id": "r_8pduHvm_9U"
      },
      "source": [
        "**Tasks:**\n",
        "\n",
        "1. For loop through the 'test' dataset usind the `dataloaders` variable defined above\n",
        "  * *Hint:* Similar syntax as when training, but the key of this dictionary will be different"
      ]
    },
    {
      "cell_type": "code",
      "metadata": {
        "id": "RgfWpx2vmmOW"
      },
      "source": [
        "labels_true = []\n",
        "labels_pred = []\n",
        "\n",
        "##################################################\n",
        "# Predict with the trained model on the test dataset\n",
        "for ... # TODO\n",
        "\n",
        "  # Image data\n",
        "  img_input = Variable(data_point['image']).to(device)\n",
        "  # Label data\n",
        "  lab_gt = data_point['label'].numpy()[0]\n",
        "  \n",
        "  # Accumulate every time we encounter a type of label\n",
        "  metrics[INV_LABEL_MAPPING[lab_gt]+'_gt'] += 1\n",
        "\n",
        "  # Prediction\n",
        "  with torch.no_grad():\n",
        "    prediction_val = model(img_input)\n",
        "    prediction_val = np.argmax(prediction_val.cpu().data.numpy(), axis=1)[0]\n",
        "\n",
        "    # Store metrics\n",
        "    accuracy = 1 if lab_gt == prediction_val else 0\n",
        "    metrics['acc'] += accuracy\n",
        "    labels_true.append(lab_gt)\n",
        "    labels_pred.append(prediction_val)\n",
        "\n",
        "    # Store if correct:\n",
        "    if lab_gt == prediction_val:\n",
        "      metrics[INV_LABEL_MAPPING[lab_gt]+'_pr'] += 1\n",
        "    \n",
        "\n",
        "print('Total test accuracy: ', metrics['acc'] / len(dataloaders['test']) * 100., '%')\n",
        "\n",
        "for k_ in LABEL_MAPPING.keys():\n",
        "  print(k_, metrics[k_ + '_pr'] / metrics[k_ + '_gt'] * 100., '%')\n",
        "\n",
        "print('\\n\\nTrue      labels: ', labels_true[::20])\n",
        "print('Predicted labels: ', labels_pred[::20])\n"
      ],
      "execution_count": null,
      "outputs": []
    },
    {
      "cell_type": "markdown",
      "metadata": {
        "id": "AVgS4YgSnLMo"
      },
      "source": [
        "**Tasks**\n",
        "\n",
        "1. Use the sklearn `confusion_matrix` function to calculate the confusion matrix on the `true_labels` and `pred_labels`\n",
        "2. Use the plotting function to plot this confusion matrix"
      ]
    },
    {
      "cell_type": "code",
      "metadata": {
        "id": "cMMDgvnVw3fa"
      },
      "source": [
        "from sklearn.metrics import confusion_matrix\n",
        "\n",
        "def plot_confusion_matrix(c_mat, title_name):\n",
        "    '''\n",
        "    Function which plots the confusion matrix\n",
        "    \n",
        "    INPUT:\n",
        "    :param c_mat, where Cij = number of observations\n",
        "                              known to be in group i and \n",
        "                              predicted to be in group j\n",
        "    '''\n",
        "    plt.figure(figsize=(7,7))\n",
        "    plt.imshow(c_mat, cmap='viridis')\n",
        "    plt.xticks(np.arange(0, c_mat.shape[0]), LABEL_MAPPING.keys())\n",
        "    plt.yticks(np.arange(0, c_mat.shape[0]), LABEL_MAPPING.keys())\n",
        "    plt.colorbar()\n",
        "\n",
        "    for i in np.arange(0, c_mat.shape[0]):\n",
        "      for j in np.arange(0, c_mat.shape[0]):\n",
        "        if i == j:\n",
        "          plt.text(i-0.1, j, c_mat[j][i], fontsize=12, color='black')\n",
        "        else:\n",
        "          plt.text(i-0.1, j, c_mat[j][i], fontsize=12, color='white')\n",
        "    \n",
        "    plt.xlabel('predicted')\n",
        "    plt.ylabel('actual')\n",
        "    \n",
        "    plt.title('Confusion matrix for ' + title_name)\n",
        "    \n",
        "    plt.show()\n",
        "    \n",
        "# Calculate the confusion matrix\n",
        "conf_mat = # todo\n",
        "print(conf_mat)\n",
        "\n",
        "# Plot the confusion matrix\n",
        "# todo\n"
      ],
      "execution_count": null,
      "outputs": []
    },
    {
      "cell_type": "code",
      "metadata": {
        "id": "wCXUTxvd0Bq1"
      },
      "source": [
        ""
      ],
      "execution_count": null,
      "outputs": []
    },
    {
      "cell_type": "markdown",
      "metadata": {
        "id": "3l3RoPvnytT8"
      },
      "source": [
        "## Part 4 - Convolutional Neural Networks"
      ]
    },
    {
      "cell_type": "markdown",
      "metadata": {
        "id": "XgrMrjy2oMYt"
      },
      "source": [
        "### dHCP Data\n",
        "\n",
        "For the 2D convolutional neural network we will be using 2D axial slices of T2w MRI images of neonates as part of the developing Human Connectome Project\n",
        "\n",
        "Run the code below to extract the data.\n",
        "\n"
      ]
    },
    {
      "cell_type": "code",
      "metadata": {
        "colab": {
          "base_uri": "https://localhost:8080/"
        },
        "id": "ClyuKzJQ9GMa",
        "outputId": "4542d40b-438b-4377-b2f3-45bfdb0583b7"
      },
      "source": [
        "###########################################\n",
        "# Extracting the dHCP dataset to the current directory\n",
        "\n",
        "# Download MedNIST dataset\n",
        "!curl -L -o data.zip 'https://github.com/irinagrigorescu/tempmri/raw/main/mrimages.zip'\n",
        "\n",
        "# unzip the '.zip' file to the current directory\n",
        "with zipfile.ZipFile('data.zip', 'r') as zip_ref:\n",
        "  zip_ref.extractall()\n",
        "\n",
        "!ls "
      ],
      "execution_count": null,
      "outputs": [
        {
          "output_type": "stream",
          "text": [
            "  % Total    % Received % Xferd  Average Speed   Time    Time     Time  Current\n",
            "                                 Dload  Upload   Total   Spent    Left  Speed\n",
            "100   141  100   141    0     0    214      0 --:--:-- --:--:-- --:--:--   214\n",
            "100 6300k  100 6300k    0     0  6351k      0 --:--:-- --:--:-- --:--:-- 6351k\n",
            "data_test.csv\tdata_valid.csv\tMedNISTSmall\t     mridata\n",
            "data_train.csv\tdata.zip\tMedNISTSmall.tar.gz  sample_data\n"
          ],
          "name": "stdout"
        }
      ]
    },
    {
      "cell_type": "markdown",
      "metadata": {
        "id": "rYDqLovdtJI4"
      },
      "source": [
        "This dataset has both T2w images and corresponding tissue segmentations.\n",
        "They are called `imgNumber_t2w.jpg` and `imgNumber_lab.jpg`\n",
        "\n",
        "Run the code below to see:"
      ]
    },
    {
      "cell_type": "code",
      "metadata": {
        "id": "ssuteA7GtJQb"
      },
      "source": [
        "!ls mridata | head"
      ],
      "execution_count": null,
      "outputs": []
    },
    {
      "cell_type": "markdown",
      "metadata": {
        "id": "7cLU6z2mog-W"
      },
      "source": [
        "It is similar as before, the only difference now is that instead of having a list of image names, we now have 3 .csv files:\n",
        "\n",
        "1. data_train.csv  - data used for training\n",
        "2. data_valid.csv  - data used for validation\n",
        "3. data_test.csv   - data used for test\n",
        "\n",
        "Example below:\n"
      ]
    },
    {
      "cell_type": "code",
      "metadata": {
        "id": "iPgVqPwaohHv"
      },
      "source": [
        "!ls  | grep csv\n",
        "\n"
      ],
      "execution_count": null,
      "outputs": []
    },
    {
      "cell_type": "markdown",
      "metadata": {
        "id": "jinrrhpMpDUO"
      },
      "source": [
        "Each file looks like this:\n",
        "```\n",
        "image_name,ga_birth,pma_scan\n",
        "0_t2w.jpg,41.0,41.14285714\n",
        "10_t2w.jpg,39.14285714,39.57142857\n",
        "20_t2w.jpg,42.0,42.28571429\n",
        "...\n",
        "```\n",
        "\n",
        "Example below:"
      ]
    },
    {
      "cell_type": "code",
      "metadata": {
        "id": "yStHeIM7pDdD"
      },
      "source": [
        "! cat data_test.csv | head"
      ],
      "execution_count": null,
      "outputs": []
    },
    {
      "cell_type": "markdown",
      "metadata": {
        "id": "L1kqIaXkpMjm"
      },
      "source": [
        "### Custom dataloaders for our dHCP dataset\n",
        "\n",
        "We will have to create a Dataset class for our new data.\n",
        "Check the code below and look for:\n",
        "\n",
        "1. The constructor now receives a csv_file (one of the data_train|valid|test.csv files) and reads it in using Pandas\n",
        "  * `self.data_file = pd.read_csv(csv_file)`\n",
        "\n",
        "2. The `__getitem__` method will have to first read a row from the Pandas dataframe which is stored in `self.data_file`\n",
        "  * Reads the image name from the idx row at column 0 (where we have the filename stored)\n",
        "  * Reads the age at birth and at scan from the idx row at columns 1 and 2\n",
        "  * Loads the files in using `Image.open` and transforms them into numpy arrays\n",
        "  * Creates the sample and calls the optional transform method"
      ]
    },
    {
      "cell_type": "code",
      "metadata": {
        "id": "dOSXPyat9GOx"
      },
      "source": [
        "class DHCPDataset(torch.utils.data.Dataset): \n",
        "\n",
        "  def __init__(self, csv_file, folder_input='mridata/', transform=None):\n",
        "    \"\"\"\n",
        "    Args:\n",
        "    csv_file: a csv file with image name | age at birth | age at scan\n",
        "    \"\"\"\n",
        "    self.data_file = pd.read_csv(csv_file)\n",
        "    self.folder_input = folder_input\n",
        "    self.transform = transform\n",
        "\n",
        "  def __len__(self):       \n",
        "    \"\"\"\n",
        "    Number of samples inside the dataset\n",
        "    Returns: length of dataset\n",
        "    \"\"\"\n",
        "    return len(self.data_file)\n",
        "\n",
        "  def __getitem__(self, idx):\n",
        "    \"\"\"\n",
        "    Select an individual sample from the dataset\n",
        "\n",
        "    Args:\n",
        "      index: index of sample to draw\n",
        "\n",
        "    Return:\n",
        "      Dict[str, torch.Tensor]: single sample\n",
        "        * `image`: image data\n",
        "        * `seg`: segmentation data\n",
        "        * `ga_birth`: age at birth\n",
        "        * `ga_scan`: age at scan\n",
        "    \"\"\"\n",
        "    # Reads from the idx row at column 0 (where we have the filename stored)\n",
        "    image_name = os.path.join(self.folder_input, self.data_file.iloc[idx, 0])\n",
        "    # Same as before but concatenates the _lab.jpg suffix to the filename\n",
        "    lab_name = os.path.join(self.folder_input, self.data_file.iloc[idx, 0].split('_t2w')[0] + '_lab.jpg')\n",
        "    # Age at birth and age at scan are on the second and third columns\n",
        "    baby_age_birth = self.data_file.iloc[idx, 1]\n",
        "    baby_age_scan = self.data_file.iloc[idx, 2]\n",
        "\n",
        "    # Load files\n",
        "    data = np.array(Image.open(image_name))\n",
        "    seg = np.array(Image.open(lab_name)) \n",
        "\n",
        "    # Create sample\n",
        "    sample = {'image': data, \n",
        "              'seg': seg,\n",
        "              'ga_birth': baby_age_birth,\n",
        "              'ga_scan': baby_age_scan}\n",
        "\n",
        "    # Transform sample\n",
        "    if self.transform:\n",
        "        sample = self.transform(sample)\n",
        "    \n",
        "    return sample\n",
        "\n"
      ],
      "execution_count": null,
      "outputs": []
    },
    {
      "cell_type": "markdown",
      "metadata": {
        "id": "-LoAr2I4pdfN"
      },
      "source": [
        "### Custom transforms for the dHCP dataset\n",
        "\n",
        "\n",
        "**Tasks:**\n",
        "\n",
        "1. `Rescale`\n",
        "  * Resize both the image and the segmentation\n",
        "\n",
        "2. `Normalise`\n",
        "  * Normalie the image data between 0 and 1 \n",
        "\n",
        "\n",
        "The other two classes are:\n",
        "\n",
        "1. `SplitLabels`\n",
        "  * This one takes as input the label data which is of size Nx x Ny and has values between 0 and 4, and creates a new array of size 5 x Nx x Ny.\n",
        "  * It does this because we want each label type (white matter, gray matter, etc.) to be on a separate channel, with values between 0 and 1. \n",
        "\n",
        "2. `ToTensor`\n",
        "  * Same as before, it transforms the image data and the label data from numpy into PyTorch tensors\n"
      ]
    },
    {
      "cell_type": "code",
      "metadata": {
        "id": "NHxMteFbpdll"
      },
      "source": [
        "\n",
        "class Rescale(object):\n",
        "  \"\"\"\n",
        "  Rescale the image in a sample to a given size.\n",
        "\n",
        "  Args:\n",
        "      output_size (tuple or int): Desired output size. If tuple, output is\n",
        "          matched to output_size. If int, smaller of image edges is matched\n",
        "          to output_size keeping aspect ratio the same.\n",
        "  \"\"\"\n",
        "\n",
        "  def __init__(self, output_size=(128, 128)):\n",
        "      assert isinstance(output_size, (tuple))\n",
        "      self.output_size = output_size\n",
        "\n",
        "  def __call__(self, sample):\n",
        "    image, seg, ga, pma = sample['image'], sample['seg'], sample['ga_birth'], sample['ga_scan']\n",
        "\n",
        "    # Get current size of the image\n",
        "    h, w = image.shape[:2]\n",
        "\n",
        "    # new size of image is stored in output_size\n",
        "    new_h, new_w = self.output_size\n",
        "    new_h, new_w = int(new_h), int(new_w)\n",
        "\n",
        "    # Rescale image\n",
        "    img = # todo\n",
        "    seg = # todo\n",
        "\n",
        "    return {'image': img, 'seg': seg, 'ga_birth': ga, 'ga_scan': pma}\n",
        "\n",
        "\n",
        "class Normalise(object):\n",
        "  \"\"\"\n",
        "  Normalise the intensities in an image between [a, b]\n",
        "  \"\"\"\n",
        "  def __init__(self, a=0, b=1):\n",
        "    self.a = a\n",
        "    self.b = b\n",
        "\n",
        "  def __call__(self, sample):\n",
        "    image, seg, ga, pma = sample['image'], sample['seg'], sample['ga_birth'], sample['ga_scan']\n",
        "\n",
        "    # Normalise between  [self.a, self.b]           \n",
        "    image = # todo\n",
        "    \n",
        "    # Label should be [0, 4]  \n",
        "    seg = seg / 63\n",
        "\n",
        "    # Create sample\n",
        "    sample = {'image': image, \n",
        "              'seg': seg,\n",
        "              'ga_birth': ga, \n",
        "              'ga_scan': pma}\n",
        "\n",
        "    return sample\n",
        "\n",
        "\n",
        "class SplitLabels(object):\n",
        "  \"\"\"\n",
        "  Create labels from Nx x Ny with values between 0 and 4 to 5 x Nx x Ny with values between 0 and 1\n",
        "  \"\"\"\n",
        "  def __init__(self, n_classes=5):\n",
        "    self.n_classes = n_classes\n",
        "\n",
        "  def __call__(self, sample):\n",
        "    image, seg, ga, pma = sample['image'], sample['seg'], sample['ga_birth'], sample['ga_scan']\n",
        "\n",
        "    nx, ny = image.shape\n",
        "    new_seg = np.zeros((self.n_classes, nx, ny))\n",
        "\n",
        "    # Background | CSF | cGM | WM | dGM\n",
        "    for i in np.arange(0, self.n_classes):\n",
        "      temp_seg = np.zeros_like(seg)\n",
        "      temp_seg[np.abs(seg - i) < 0.5] = 1.0\n",
        "      temp_seg[temp_seg > 0.0] = 1.0\n",
        "      new_seg[i] = temp_seg\n",
        "\n",
        "    # Create sample\n",
        "    sample = {'image': image, \n",
        "              'seg': new_seg,\n",
        "              'ga_birth': ga, \n",
        "              'ga_scan': pma}\n",
        "\n",
        "    return sample\n",
        "\n",
        "\n",
        "class ToTensor(object):\n",
        "  \"\"\"\n",
        "  Convert ndarrays in sample to Tensors.\n",
        "  \"\"\"\n",
        "\n",
        "  def __call__(self, sample):\n",
        "    image, seg, ga, pma = sample['image'], sample['seg'], sample['ga_birth'], sample['ga_scan']\n",
        "\n",
        "    # Create sample of tensors here:\n",
        "    sample = {'image': torch.from_numpy(image)[None].float(), \n",
        "              'seg': torch.from_numpy(seg).float(),\n",
        "              'ga_birth': torch.tensor(ga)[None].float(), \n",
        "              'ga_scan': torch.tensor(pma)[None].float()}\n",
        "\n",
        "    return sample"
      ],
      "execution_count": null,
      "outputs": []
    },
    {
      "cell_type": "markdown",
      "metadata": {
        "id": "LqSQP_4JK0Cq"
      },
      "source": [
        "### Custom dataloaders for the dHCP data\n",
        "\n",
        "**Tasks:**\n",
        "\n",
        "1. Create train_ds, valid_ds and test_ds, by calling DHCPDataset with the corresponding .csv file, and the transforms defined above (Normalise, Rescale, SplitLabels, ToTensor).\n",
        "\n",
        "2. Create the dataloaders for each type\n"
      ]
    },
    {
      "cell_type": "code",
      "metadata": {
        "id": "Q1EmZLEX9GRH"
      },
      "source": [
        "# Dataset properties\n",
        "batch_size = 8\n",
        "LABELS_DICT = {0: 'background', 1: 'csf', 2: 'cortical gray matter', 3: 'white matter', 4: 'deep gray matter'}\n",
        "\n",
        "# Train / validation / test datasets\n",
        "train_ds = # todo\n",
        "valid_ds = # todo\n",
        "test_ds = # todo\n",
        "\n",
        "# Train / validation / test dataloaders\n",
        "# TODO\n",
        "dataloaders = {\n",
        "    \"train\": # todo\n",
        "    \"valid\": # todo\n",
        "    \"test\": # todo\n",
        "}\n",
        "\n",
        "\n",
        "# Let's check the training loader\n",
        "for i, batch in enumerate(dataloaders[\"train\"]):\n",
        "  image_train, label_train = batch['image'], batch['seg']\n",
        "  print('\\n\\nimage_train.shape', image_train.shape)\n",
        "  print('label_train.shape', label_train.shape)\n",
        "  print('plot image')\n",
        "\n",
        "  plt.figure(figsize=(20, 3))\n",
        "  plt.subplot(1, 6, 1)\n",
        "  plt.imshow(image_train[0,0])\n",
        "  plt.title('t2w')\n",
        "  plt.xticks([])\n",
        "  plt.yticks([])\n",
        "  plt.colorbar()\n",
        "\n",
        "  for idx in np.arange(0, 5):\n",
        "    plt.subplot(1, 6, idx+2)\n",
        "    plt.imshow(label_train[0, idx])\n",
        "    plt.title(LABELS_DICT[idx])\n",
        "    plt.xticks([])\n",
        "    plt.yticks([])\n",
        "    plt.colorbar()\n",
        "  plt.show()\n",
        "\n",
        "  print('...')\n",
        "\n",
        "  # Break the loop early as we only want to look at a few examples:\n",
        "  if i > 1:\n",
        "    break\n",
        "\n"
      ],
      "execution_count": null,
      "outputs": []
    },
    {
      "cell_type": "markdown",
      "metadata": {
        "id": "8T5K3Mx61-mC"
      },
      "source": [
        "### Create the convolutional neural network\n",
        "\n",
        "**Tasks:**\n",
        "\n",
        "Create the CNN with the following architecture\n",
        "  1. Three convolutional layers, each followed by a LeakyReLU activation and an Upsampling layer\n",
        "    * First convolution goes from in_channels=1 (because the input image has 1 channel) to out_channels=32\n",
        "    * Second goes from 32 to 64 features\n",
        "    * Third goes from 64 to 128 features\n",
        "    * Keep the `kernel_size=3` and the `padding=1` for all convolutions \n",
        "    \n",
        "  \n",
        "  2. Three transpose convolutional layers, each followed by a LeakyReLU activation and an Upsampling layer\n",
        "    * First convolution goes from 128 to 64\n",
        "    * Second goes from 64 to 32 features\n",
        "    * Third goes from 32 to 16 features\n",
        "    * Keep the `kernel_size=3` and the `padding=1` for all convolutions \n",
        "\n",
        "  3. One final convolutional layer going from 16 to out_nodes, followed by a softmax activation\n",
        "  \n",
        "\n",
        "A picture of the architecture can be found here: https://github.com/irinagrigorescu/tempmri/blob/main/network1.png\n",
        "\n",
        "![network1.png](https://github.com/irinagrigorescu/tempmri/raw/main/network1.png)\n",
        "\n",
        "\n",
        "*Hints:*\n",
        "  * `nn.Conv2d(in_channels, out_channels, kernel_size=3, padding=1)`\n",
        "  * `nn.ConvTranspose2d(in_channels, out_channels, kernel_size=3, padding=1)` \n",
        "  * `F.leaky_relu(x, inplace=True)`\n",
        "  * `nn.UpsamplingBilinear2d(scale_factor=2)`\n",
        "  * `nn.Softmax(dim=1)`"
      ]
    },
    {
      "cell_type": "code",
      "metadata": {
        "id": "HACFv51g9GTo"
      },
      "source": [
        "class MyConvNetwork(nn.Module):\n",
        "\n",
        "  def __init__(self, in_channels=1, out_nodes=5):  \n",
        "    super(MyConvNetwork, self).__init__()\n",
        "\n",
        "    self.conv1 = nn.Conv2d(in_channels=in_channels, out_channels=32, kernel_size=3, padding=1)\n",
        "    self.conv2 = # todo\n",
        "    self.conv3 = # todo\n",
        "\n",
        "    self.conv4 = nn.ConvTranspose2d(...)# todo\n",
        "    self.conv5 = # todo\n",
        "    self.conv6 = # todo\n",
        "\n",
        "    self.final = # todo\n",
        "\n",
        "    self.downsample = # todo\n",
        "    self.upsample = # todo\n",
        "\n",
        "    self.activ = # todo\n",
        "\n",
        "    init_weights(self)\n",
        "\n",
        "  def forward(self, x): \n",
        "    # Downsampling part\n",
        "    enc1 = F.leaky_relu(self.conv1(x), inplace=True)\n",
        "    enc1 = self.downsample(enc1)   # 32 x 64 x 64\n",
        "\n",
        "    enc2 = # todo\n",
        "\n",
        "    enc3 = # todo\n",
        "    \n",
        "    # Upsampling part\n",
        "    dec1 = # todo\n",
        "\n",
        "    dec2 = # todo\n",
        "\n",
        "    dec3 = # todo\n",
        "\n",
        "    fin = # todo\n",
        "\n",
        "    return fin\n",
        "\n",
        "# After we have defined our model we load it onto our device\n",
        "model = MyConvNetwork().to(device)"
      ],
      "execution_count": null,
      "outputs": []
    },
    {
      "cell_type": "markdown",
      "metadata": {
        "id": "RWmDWwfi_5P6"
      },
      "source": [
        "### Dice Loss\n",
        "\n",
        "For segmentation tasks it is very common to use the Dice Loss. \n",
        "\n",
        "For two binary volumes P (the predicted segmentation) and G (the ground truth segmentation), the Dice loss is defined as 1 - Dice Coefficent as below:\n",
        "\n",
        "Dice Loss = $1 - DC$ = $ 1 - \\frac{2 \\sum_{i=1}^N p_i g_i}{\\sum_{i=1}^N p_i + g_i + \\epsilon} $\n",
        "\n",
        "where the voxels $p_i \\in P$ and the voxels $g_i \\in G$ and $\\epsilon$ is added to avoid dividing by zero.\n",
        "\n",
        "When the predicted and ground truth volumes are completely overlapping, DC = 1, thus the Dice Loss = 0.\n",
        "\n",
        "\n",
        "Source:\n",
        "* https://arxiv.org/pdf/1707.03237.pdf\n",
        "\n",
        "\n",
        "**Tasks:**\n",
        "1. Implement the Dice Coeffiecient \n",
        "  * *Hint:* Your target_volume and predicted_volume will have a shape of Batches x Channels x Nx x Ny. You can reshape both of them to Batches x Channels x Nx*Ny\n",
        "  * *Hint:* The sum should be done on the voxels (dim=2)\n"
      ]
    },
    {
      "cell_type": "code",
      "metadata": {
        "id": "VFnbMRe6_5g4"
      },
      "source": [
        "def dice_score(target_volume, predicted_volume, eps=1e-7):\n",
        "  # TODO\n",
        "\n",
        "  dc = ... # todo\n",
        "  return dc\n",
        "\n",
        "\n",
        "def dice_loss(target_volume, predicted_volume):\n",
        "  return torch.tensor(1.0) - dice_score(target_volume, predicted_volume)\n",
        "\n"
      ],
      "execution_count": null,
      "outputs": []
    },
    {
      "cell_type": "markdown",
      "metadata": {
        "id": "yFNdgUGdHxJg"
      },
      "source": [
        "**Tasks:**\n",
        "\n",
        "Train the network with:\n",
        "  * Dice loss\n",
        "  * Adam optimizer\n",
        "  * 20 epochs\n",
        "  * learning rate of 0.005"
      ]
    },
    {
      "cell_type": "code",
      "metadata": {
        "id": "PIO96kbv9GXW"
      },
      "source": [
        "#####################################################\n",
        "# Variables for train\n",
        "n_epochs = # todo\n",
        "learning_rate = # todo\n",
        "to_plot = True\n",
        "lamda = 1.0\n",
        "\n",
        "loss_function = # todo\n",
        "\n",
        "optim = # todo\n",
        "\n",
        "# Metrics to store during training\n",
        "metrics = {'loss_train': [], 'loss_valid': [],\n",
        "           'dc_train': [], 'dc_valid': []}\n",
        "\n",
        "# Go through each epoch\n",
        "#####################################################\n",
        "for epoch in range(0, n_epochs):\n",
        "\n",
        "  # Print learning rate for each epoch -- good for when you have a LR scheduler\n",
        "  lr = optim.param_groups[0]['lr']\n",
        "  print('LEARNING RATE = %.7f' % lr)\n",
        "\n",
        "  # Save time to calculate how long it took\n",
        "  start_time = time.time()\n",
        "\n",
        "  # Set plotted to false at the start of each epoch\n",
        "  plotted = False\n",
        "\n",
        "  # Append emtpy list so that each epoch has a list of values\n",
        "  for key_ in metrics.keys():\n",
        "    metrics[key_].append([])\n",
        "\n",
        "  # Go through each phase TRAIN/VALID\n",
        "  #####################################################  \n",
        "  for phase in ['train', 'valid']:\n",
        "\n",
        "    # Go through each data point in either train or validation\n",
        "    #####################################################  \n",
        "    for i, data_point in enumerate(dataloaders[phase]):\n",
        "      \n",
        "      # Calculates step\n",
        "      length_dataloader = len(dataloaders[phase])\n",
        "      step = epoch * length_dataloader + i + 1\n",
        "\n",
        "      # Fetch batch of data\n",
        "      ##################################################\n",
        "      # Image data\n",
        "      img_input = Variable(data_point['image']).to(device)\n",
        "      \n",
        "      # Segmentation ground truth\n",
        "      seg_gt = Variable(data_point['seg']).to(device)\n",
        "\n",
        "      # TRAIN\n",
        "      ##################################################\n",
        "      if phase == 'train':\n",
        "        # 1) Set optimiser to zero grad\n",
        "        # todo\n",
        "\n",
        "        # 2) Forward pass through network\n",
        "        prediction = # todo\n",
        "\n",
        "        # 3) Calculate loss\n",
        "        current_loss = # todo\n",
        "        metric_loss = # todo\n",
        "\n",
        "        # Store metrics\n",
        "        metrics['loss_train'][-1].append(current_loss.item())\n",
        "        metrics['dc_train'][-1].append(metric_loss.item())     \n",
        "        \n",
        "        # 4) Perform backward pass\n",
        "        # todo\n",
        "\n",
        "        # 5) Update weights\n",
        "        # todo\n",
        "\n",
        "      # Validate\n",
        "      ##################################################\n",
        "      if phase == 'valid':\n",
        "        model.eval()\n",
        "\n",
        "        # Prediction is done without gradients\n",
        "        with torch.no_grad():\n",
        "          prediction_val = # todo\n",
        "\n",
        "          # Calculate loss\n",
        "          current_loss = # todo\n",
        "          metric_loss = # todo\n",
        "\n",
        "          # Store metrics\n",
        "          metrics['loss_valid'][-1].append(current_loss.item())\n",
        "          metrics['dc_valid'][-1].append(metric_loss.item())    \n",
        "\n",
        "          # Plot once in a while\n",
        "          if to_plot and epoch % 5 == 0 and plotted is False:\n",
        "            plt.figure(figsize=(16, 4))\n",
        "\n",
        "            plt.subplot(1,3,1)\n",
        "            plt.imshow(img_input.cpu().data.numpy()[0, 0], cmap='Greys_r')\n",
        "            plt.ylabel('img')\n",
        "            plt.xticks([])\n",
        "            plt.yticks([])\n",
        "            plt.colorbar()\n",
        "\n",
        "            plt.subplot(1,3,2)\n",
        "            plt.imshow(prediction_val.cpu().data.numpy()[0, 3], cmap='viridis')\n",
        "            plt.ylabel('pred')\n",
        "            plt.xticks([])\n",
        "            plt.yticks([])\n",
        "            plt.colorbar()\n",
        "\n",
        "            plt.subplot(1,3,3)\n",
        "            plt.imshow(seg_gt.cpu().data.numpy()[0, 3], cmap='viridis')\n",
        "            plt.ylabel('gt')\n",
        "            plt.xticks([])\n",
        "            plt.yticks([])\n",
        "            plt.colorbar()\n",
        "\n",
        "            plt.show()\n",
        "\n",
        "            plotted = True\n",
        "\n",
        "      # PRINT STATS\n",
        "      ###################################################\n",
        "      if i % 50 == 0:\n",
        "        time_elapsed = time.time() - start_time\n",
        "        print(\"%s Epoch: (%3d) (%5d/%5d) (%3d) | Loss:%.2e | DiceCoeff:%.2e | %.0fm %.2fs\" %\n",
        "              (phase.upper(), epoch, i + 1, length_dataloader, step,\n",
        "              current_loss.item(), metric_loss.item(), time_elapsed // 60, time_elapsed % 60))\n"
      ],
      "execution_count": null,
      "outputs": []
    },
    {
      "cell_type": "markdown",
      "metadata": {
        "id": "Sj3ZzvikJs_1"
      },
      "source": [
        "**Plot the metrics**"
      ]
    },
    {
      "cell_type": "code",
      "metadata": {
        "id": "fk1Os62R9GZt"
      },
      "source": [
        "##################################################\n",
        "# Losses\n",
        "# todo"
      ],
      "execution_count": null,
      "outputs": []
    },
    {
      "cell_type": "markdown",
      "metadata": {
        "id": "TZWlAlWlIkn-"
      },
      "source": [
        "**Tasks:**\n",
        "\n",
        "1. Predict with the trained model on the test dataset.\n",
        "2. Plot the predictions for the first 3 data points by calling the function `plot_image_gtseg_predseg()` on the image, ground truth segmentation and predicted segmentations to see some results."
      ]
    },
    {
      "cell_type": "code",
      "metadata": {
        "id": "k0gbQYXp94OB"
      },
      "source": [
        "##################################################\n",
        "# Plotting function is created here\n",
        "def plot_image_gtseg_predseg(img_, seg_gt_, seg_pr_):\n",
        "\n",
        "  plt.figure(figsize=(20, 6))\n",
        "  \n",
        "  plt.subplot(2, 6, 1)\n",
        "  plt.imshow(img_)\n",
        "  plt.title('t2w')\n",
        "  plt.xticks([])\n",
        "  plt.yticks([])\n",
        "  plt.colorbar()\n",
        "\n",
        "  for idx in np.arange(0, 5):\n",
        "    # Ground truth \n",
        "    plt.subplot(2, 6, idx+2)\n",
        "    plt.imshow(seg_gt_[idx], vmin=0.0, vmax=1.0)\n",
        "    plt.title(LABELS_DICT[idx])\n",
        "    plt.ylabel('gt')\n",
        "    plt.xticks([])\n",
        "    plt.yticks([])\n",
        "    plt.colorbar()\n",
        "    \n",
        "    # Predictions\n",
        "    plt.subplot(2, 6, idx+2+6)\n",
        "    plt.imshow(seg_pr_[idx], vmin=0.0, vmax=1.0)\n",
        "    plt.title(LABELS_DICT[idx])\n",
        "    plt.ylabel('pred')\n",
        "    plt.xticks([])\n",
        "    plt.yticks([])\n",
        "    plt.colorbar()\n",
        "\n",
        "  plt.show()\n"
      ],
      "execution_count": null,
      "outputs": []
    },
    {
      "cell_type": "code",
      "metadata": {
        "id": "89PVS-vF9Gca"
      },
      "source": [
        "##################################################\n",
        "# Predict with the trained model on the test dataset\n",
        "\n",
        "# TODO\n"
      ],
      "execution_count": null,
      "outputs": []
    },
    {
      "cell_type": "code",
      "metadata": {
        "id": "J6jjZNZe6Tti"
      },
      "source": [
        ""
      ],
      "execution_count": null,
      "outputs": []
    },
    {
      "cell_type": "markdown",
      "metadata": {
        "id": "C7LvyvQF5o9r"
      },
      "source": [
        "### Skip Connections\n",
        "\n",
        "One way to make your network train better is to add **skip connections**\n",
        "\n",
        "**Tasks:**\n",
        "\n",
        "1. Add skip connections between dec1 and enc2 and between dec2 and enc1 in order to concatenate the features\n",
        "  * Hint: `torch.cat()`\n",
        "  * You must give `torch.cat` a value for the parameter `dim`, meaning which dimension/axis the concatenation should be applied on.\n",
        "\n",
        "\n",
        "A picture of the new architecture can be found here: https://github.com/irinagrigorescu/tempmri/blob/main/network2.png\n",
        "\n",
        "![network2.png](https://github.com/irinagrigorescu/tempmri/raw/main/network2.png)"
      ]
    },
    {
      "cell_type": "code",
      "metadata": {
        "id": "s5MT4KIx3Wsm"
      },
      "source": [
        "\n",
        "class MyConvNetworkSkipConnections(nn.Module):\n",
        "\n",
        "  def __init__(self, in_channels=1, out_nodes=5):  \n",
        "    super(MyConvNetworkSkipConnections, self).__init__()\n",
        "\n",
        "    # TODO\n",
        "\n",
        "    init_weights(self)\n",
        "\n",
        "  def forward(self, x): \n",
        "    \n",
        "    # TODO\n",
        "\n",
        "    return fin\n",
        "\n",
        "# After we have defined our model we load it onto our device\n",
        "model_new = MyConvNetworkSkipConnections().to(device)"
      ],
      "execution_count": null,
      "outputs": []
    },
    {
      "cell_type": "markdown",
      "metadata": {
        "id": "OHo39dFeJYbO"
      },
      "source": [
        "Tasks\n",
        "\n",
        "1. Train the new network the same as before\n",
        "2. Plot the losses # `plot_losses_metrics`\n",
        "3. Predict on the test data\n",
        "4. Did it perform better?\n",
        "\n"
      ]
    },
    {
      "cell_type": "code",
      "metadata": {
        "id": "R_llUHXYJgh3"
      },
      "source": [
        "#####################################################\n",
        "# 1. Train the new network\n",
        "\n",
        "# TODO\n",
        "\n",
        "\n"
      ],
      "execution_count": null,
      "outputs": []
    },
    {
      "cell_type": "code",
      "metadata": {
        "id": "oICX7XQIJ2Gv"
      },
      "source": [
        "##################################################\n",
        "# 2. Plot Losses\n",
        "# TODO\n"
      ],
      "execution_count": null,
      "outputs": []
    },
    {
      "cell_type": "code",
      "metadata": {
        "id": "4TXEjfsIJ1Ak"
      },
      "source": [
        "##################################################\n",
        "# 3. Predict with the trained model on the test dataset\n",
        "# TODO\n",
        "\n"
      ],
      "execution_count": null,
      "outputs": []
    },
    {
      "cell_type": "code",
      "metadata": {
        "id": "gpWF6XXyKH6m"
      },
      "source": [
        ""
      ],
      "execution_count": null,
      "outputs": []
    }
  ]
}